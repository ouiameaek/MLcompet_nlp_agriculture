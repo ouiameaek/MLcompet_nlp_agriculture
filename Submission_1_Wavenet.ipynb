{
 "cells": [
  {
   "cell_type": "code",
   "execution_count": 1,
   "metadata": {
    "colab": {},
    "colab_type": "code",
    "id": "RBYwPyKl2x4s"
   },
   "outputs": [],
   "source": [
    "import pandas as pd\n",
    "import IPython.display as ipd\n",
    "import numpy as np\n",
    "from pathlib import Path\n",
    "import librosa\n",
    "import matplotlib.pyplot as plt\n",
    "import os\n",
    "\n",
    "import random\n",
    "import soundfile as sf\n",
    "\n",
    "import warnings\n",
    "\n",
    "warnings.filterwarnings(\"ignore\")\n",
    "\n",
    "%load_ext autotime"
   ]
  },
  {
   "cell_type": "markdown",
   "metadata": {},
   "source": [
    "* Get training data"
   ]
  },
  {
   "cell_type": "code",
   "execution_count": 2,
   "metadata": {
    "colab": {
     "base_uri": "https://localhost:8080/",
     "height": 204
    },
    "colab_type": "code",
    "id": "WI0jHls53JSi",
    "outputId": "e098a4b8-c3a8-4362-ed35-fea3f2936e81"
   },
   "outputs": [
    {
     "data": {
      "text/html": [
       "<div>\n",
       "<style scoped>\n",
       "    .dataframe tbody tr th:only-of-type {\n",
       "        vertical-align: middle;\n",
       "    }\n",
       "\n",
       "    .dataframe tbody tr th {\n",
       "        vertical-align: top;\n",
       "    }\n",
       "\n",
       "    .dataframe thead th {\n",
       "        text-align: right;\n",
       "    }\n",
       "</style>\n",
       "<table border=\"1\" class=\"dataframe\">\n",
       "  <thead>\n",
       "    <tr style=\"text-align: right;\">\n",
       "      <th></th>\n",
       "      <th>fn</th>\n",
       "      <th>label</th>\n",
       "    </tr>\n",
       "  </thead>\n",
       "  <tbody>\n",
       "    <tr>\n",
       "      <th>0</th>\n",
       "      <td>audio_files/IV38R7F.wav</td>\n",
       "      <td>akawuka</td>\n",
       "    </tr>\n",
       "    <tr>\n",
       "      <th>1</th>\n",
       "      <td>audio_files/KM4SKWT.wav</td>\n",
       "      <td>banana</td>\n",
       "    </tr>\n",
       "    <tr>\n",
       "      <th>2</th>\n",
       "      <td>audio_files/F5POSU9.wav</td>\n",
       "      <td>obulwadde</td>\n",
       "    </tr>\n",
       "    <tr>\n",
       "      <th>3</th>\n",
       "      <td>audio_files/MMVDXG2.wav</td>\n",
       "      <td>nnyaanya</td>\n",
       "    </tr>\n",
       "    <tr>\n",
       "      <th>4</th>\n",
       "      <td>audio_files/9TVM96F.wav</td>\n",
       "      <td>pampu</td>\n",
       "    </tr>\n",
       "  </tbody>\n",
       "</table>\n",
       "</div>"
      ],
      "text/plain": [
       "                        fn      label\n",
       "0  audio_files/IV38R7F.wav    akawuka\n",
       "1  audio_files/KM4SKWT.wav     banana\n",
       "2  audio_files/F5POSU9.wav  obulwadde\n",
       "3  audio_files/MMVDXG2.wav   nnyaanya\n",
       "4  audio_files/9TVM96F.wav      pampu"
      ]
     },
     "execution_count": 2,
     "metadata": {},
     "output_type": "execute_result"
    }
   ],
   "source": [
    "train = pd.read_csv('Train.csv')\n",
    "train.head()"
   ]
  },
  {
   "cell_type": "code",
   "execution_count": 3,
   "metadata": {},
   "outputs": [
    {
     "data": {
      "text/plain": [
       "193"
      ]
     },
     "execution_count": 3,
     "metadata": {},
     "output_type": "execute_result"
    }
   ],
   "source": [
    "train.label.nunique()"
   ]
  },
  {
   "cell_type": "code",
   "execution_count": 4,
   "metadata": {},
   "outputs": [
    {
     "data": {
      "text/plain": [
       "(1109, 2)"
      ]
     },
     "execution_count": 4,
     "metadata": {},
     "output_type": "execute_result"
    }
   ],
   "source": [
    "train.shape"
   ]
  },
  {
   "cell_type": "code",
   "execution_count": 5,
   "metadata": {
    "colab": {
     "base_uri": "https://localhost:8080/",
     "height": 282
    },
    "colab_type": "code",
    "id": "ZxDJR90G4H_-",
    "outputId": "f2154bfa-bd58-4bc5-a976-6d74149b2afc"
   },
   "outputs": [
    {
     "data": {
      "text/plain": [
       "<AxesSubplot:ylabel='Frequency'>"
      ]
     },
     "execution_count": 5,
     "metadata": {},
     "output_type": "execute_result"
    },
    {
     "data": {
      "image/png": "[encoded data removed]",
      "text/plain": [
       "<Figure size 432x288 with 1 Axes>"
      ]
     },
     "metadata": {
      "needs_background": "light"
     },
     "output_type": "display_data"
    }
   ],
   "source": [
    "# Plot a histogram showing how common different counts are\n",
    "train.groupby('label').count()['fn'].plot(kind='hist')"
   ]
  },
  {
   "cell_type": "markdown",
   "metadata": {},
   "source": [
    "* New data"
   ]
  },
  {
   "cell_type": "code",
   "execution_count": null,
   "metadata": {},
   "outputs": [],
   "source": [
    "os.listdir(main_dir)"
   ]
  },
  {
   "cell_type": "code",
   "execution_count": null,
   "metadata": {},
   "outputs": [],
   "source": [
    "new_data = []\n",
    "\n",
    "main_dir = \"nlp_keywords/\"\n",
    "\n",
    "for word in os.listdir(main_dir):\n",
    "    if not word.startswith('.'):\n",
    "        content = os.listdir(main_dir + word)\n",
    "        for file in content:\n",
    "            file_name = main_dir + word + \"/\" + file\n",
    "            new_data.append((file_name, word))\n",
    "            print(file_name)"
   ]
  },
  {
   "cell_type": "code",
   "execution_count": null,
   "metadata": {},
   "outputs": [],
   "source": [
    "main_dir = \"latest_keywords/\"\n",
    "\n",
    "for word in os.listdir(main_dir):\n",
    "    if not word.startswith('.'):\n",
    "        content = os.listdir(main_dir + word)\n",
    "        for file in content:\n",
    "            file_name = main_dir + word + \"/\" + file\n",
    "            new_data.append((file_name, word))\n",
    "            print(file_name)"
   ]
  },
  {
   "cell_type": "code",
   "execution_count": 337,
   "metadata": {},
   "outputs": [
    {
     "data": {
      "text/plain": [
       "3600"
      ]
     },
     "execution_count": 337,
     "metadata": {},
     "output_type": "execute_result"
    },
    {
     "name": "stdout",
     "output_type": "stream",
     "text": [
      "time: 1.79 ms\n"
     ]
    }
   ],
   "source": [
    "len(new_data)"
   ]
  },
  {
   "cell_type": "code",
   "execution_count": 306,
   "metadata": {},
   "outputs": [
    {
     "name": "stdout",
     "output_type": "stream",
     "text": [
      "time: 2.08 ms\n"
     ]
    }
   ],
   "source": [
    "train_new = pd.DataFrame(new_data, columns=['fn', 'label'])"
   ]
  },
  {
   "cell_type": "code",
   "execution_count": 338,
   "metadata": {},
   "outputs": [
    {
     "data": {
      "text/html": [
       "<div>\n",
       "<style scoped>\n",
       "    .dataframe tbody tr th:only-of-type {\n",
       "        vertical-align: middle;\n",
       "    }\n",
       "\n",
       "    .dataframe tbody tr th {\n",
       "        vertical-align: top;\n",
       "    }\n",
       "\n",
       "    .dataframe thead th {\n",
       "        text-align: right;\n",
       "    }\n",
       "</style>\n",
       "<table border=\"1\" class=\"dataframe\">\n",
       "  <thead>\n",
       "    <tr style=\"text-align: right;\">\n",
       "      <th></th>\n",
       "      <th>fn</th>\n",
       "      <th>label</th>\n",
       "    </tr>\n",
       "  </thead>\n",
       "  <tbody>\n",
       "    <tr>\n",
       "      <th>0</th>\n",
       "      <td>nlp_keywords/okulimibwa/6fbfcce2cf21419e97290f...</td>\n",
       "      <td>okulimibwa</td>\n",
       "    </tr>\n",
       "    <tr>\n",
       "      <th>1</th>\n",
       "      <td>nlp_keywords/okulimibwa/d027264654b94950aeb204...</td>\n",
       "      <td>okulimibwa</td>\n",
       "    </tr>\n",
       "    <tr>\n",
       "      <th>2</th>\n",
       "      <td>nlp_keywords/okulimibwa/d027264654b94950aeb204...</td>\n",
       "      <td>okulimibwa</td>\n",
       "    </tr>\n",
       "    <tr>\n",
       "      <th>3</th>\n",
       "      <td>nlp_keywords/okulimibwa/d027264654b94950aeb204...</td>\n",
       "      <td>okulimibwa</td>\n",
       "    </tr>\n",
       "    <tr>\n",
       "      <th>4</th>\n",
       "      <td>nlp_keywords/okulimibwa/d027264654b94950aeb204...</td>\n",
       "      <td>okulimibwa</td>\n",
       "    </tr>\n",
       "  </tbody>\n",
       "</table>\n",
       "</div>"
      ],
      "text/plain": [
       "                                                  fn       label\n",
       "0  nlp_keywords/okulimibwa/6fbfcce2cf21419e97290f...  okulimibwa\n",
       "1  nlp_keywords/okulimibwa/d027264654b94950aeb204...  okulimibwa\n",
       "2  nlp_keywords/okulimibwa/d027264654b94950aeb204...  okulimibwa\n",
       "3  nlp_keywords/okulimibwa/d027264654b94950aeb204...  okulimibwa\n",
       "4  nlp_keywords/okulimibwa/d027264654b94950aeb204...  okulimibwa"
      ]
     },
     "execution_count": 338,
     "metadata": {},
     "output_type": "execute_result"
    },
    {
     "name": "stdout",
     "output_type": "stream",
     "text": [
      "time: 13.4 ms\n"
     ]
    }
   ],
   "source": [
    "train_new.head()"
   ]
  },
  {
   "cell_type": "code",
   "execution_count": 339,
   "metadata": {},
   "outputs": [
    {
     "data": {
      "text/plain": [
       "(3600, 2)"
      ]
     },
     "execution_count": 339,
     "metadata": {},
     "output_type": "execute_result"
    },
    {
     "name": "stdout",
     "output_type": "stream",
     "text": [
      "time: 3.52 ms\n"
     ]
    }
   ],
   "source": [
    "train_new.shape"
   ]
  },
  {
   "cell_type": "markdown",
   "metadata": {},
   "source": [
    "* Augment new data"
   ]
  },
  {
   "cell_type": "code",
   "execution_count": 48,
   "metadata": {},
   "outputs": [],
   "source": [
    "aug_size = 50\n",
    "\n",
    "augmentation_config = {'noise_addition' : np.random.uniform(low=0.001, high=0.005, size=(aug_size,)),\n",
    "                       'time_shift' : np.random.randint(low=2, high=10, size=aug_size),\n",
    "                       'time_stretch' : np.random.uniform(low=0.5, high=0.9, size=(aug_size,)),\n",
    "                       'pitch_shift' : np.random.randint(low=-4, high=4, size=aug_size)}"
   ]
  },
  {
   "cell_type": "code",
   "execution_count": null,
   "metadata": {},
   "outputs": [],
   "source": [
    "i = 0\n",
    "\n",
    "main_dir = 'nlp_keywords/'\n",
    "\n",
    "for word in os.listdir(main_dir):\n",
    "    if not word.startswith('.'):\n",
    "        content = os.listdir(main_dir + word)\n",
    "        for file in content:\n",
    "            file_name = main_dir + word + \"/\" + file\n",
    "            try:\n",
    "                wav, sr = librosa.load(file_name,sr=None)\n",
    "                i = i + 1\n",
    "            except Exception as e:\n",
    "                print(e)\n",
    "                break\n",
    "    break\n",
    "    \n",
    "#UserWarning: PySoundFile failed. Trying audioread instead.\n",
    "#warnings.warn(\"PySoundFile failed. Trying audioread instead.\")"
   ]
  },
  {
   "cell_type": "code",
   "execution_count": 340,
   "metadata": {},
   "outputs": [
    {
     "name": "stdout",
     "output_type": "stream",
     "text": [
      "time: 88.4 ms\n"
     ]
    }
   ],
   "source": [
    "wav, sr = librosa.load(file_name,sr=None)"
   ]
  },
  {
   "cell_type": "code",
   "execution_count": 341,
   "metadata": {},
   "outputs": [
    {
     "data": {
      "text/plain": [
       "10955"
      ]
     },
     "execution_count": 341,
     "metadata": {},
     "output_type": "execute_result"
    },
    {
     "name": "stdout",
     "output_type": "stream",
     "text": [
      "time: 2.33 ms\n"
     ]
    }
   ],
   "source": [
    "len(aug_data)"
   ]
  },
  {
   "cell_type": "code",
   "execution_count": null,
   "metadata": {},
   "outputs": [],
   "source": [
    "for index, row in train_new.iterrows():\n",
    "    #Path()\n",
    "    wav, sr = librosa.load(row[\"fn\"],sr=None)\n",
    "    \n",
    "    new_name_prefix = 'audio_files_augmented/' + row[\"fn\"].split('/')[-1].split('.')[0]\n",
    "    \n",
    "    n_operations = np.random.randint(low=1, high=5)\n",
    "    # add noise\n",
    "    for i in range(n_operations):\n",
    "        factor = np.random.uniform(low=0.001, high=0.005)\n",
    "        wav_n = wav + factor*np.random.normal(0,1,len(wav))\n",
    "        new_name = new_name_prefix + '_noise_' + str(factor).split('.')[-1] +'.wav'\n",
    "        #librosa.output.write_wav(new_name,wav_n,sr)\n",
    "        sf.write(new_name, wav_n, sr)\n",
    "        aug_data.append((new_name, row[\"label\"]))\n",
    "        print(new_name)\n",
    "    \n",
    "    n_operations = np.random.randint(low=1, high=5)\n",
    "    # add time shift\n",
    "    for i in range(n_operations):\n",
    "        factor = np.random.randint(low=2, high=10)\n",
    "        wav_n = np.roll(wav,int(sr/factor))\n",
    "        new_name = new_name_prefix + '_shift_' + str(factor).split('.')[-1] +'.wav'\n",
    "        sf.write(new_name, wav_n, sr)\n",
    "        aug_data.append((new_name, row[\"label\"]))\n",
    "        print(new_name)\n",
    "    \n",
    "    n_operations = np.random.randint(low=1, high=5)\n",
    "    # add time stretch\n",
    "    for i in range(n_operations):\n",
    "        factor = np.random.uniform(low=0.5, high=0.9)\n",
    "        wav_n = librosa.effects.time_stretch(wav,factor)\n",
    "        new_name = new_name_prefix + '_stretch_' + str(factor).split('.')[-1] +'.wav'\n",
    "        sf.write(new_name, wav_n, sr)\n",
    "        aug_data.append((new_name, row[\"label\"]))\n",
    "        print(new_name)\n",
    "    \n",
    "    n_operations = np.random.randint(low=1, high=5)\n",
    "    # add pitch shift\n",
    "    for i in range(n_operations):\n",
    "        factor = np.random.randint(low=-4, high=4)\n",
    "        wav_n = librosa.effects.pitch_shift(wav,sr,n_steps=factor)\n",
    "        new_name = new_name_prefix + '_pitch_' + str(factor).split('.')[-1] +'.wav'\n",
    "        sf.write(new_name, wav_n, sr)\n",
    "        aug_data.append((new_name, row[\"label\"]))\n",
    "        print(new_name)"
   ]
  },
  {
   "cell_type": "code",
   "execution_count": 347,
   "metadata": {},
   "outputs": [
    {
     "data": {
      "text/plain": [
       "47019"
      ]
     },
     "execution_count": 347,
     "metadata": {},
     "output_type": "execute_result"
    },
    {
     "name": "stdout",
     "output_type": "stream",
     "text": [
      "time: 2.52 ms\n"
     ]
    }
   ],
   "source": [
    "len(aug_data)"
   ]
  },
  {
   "cell_type": "code",
   "execution_count": 348,
   "metadata": {},
   "outputs": [
    {
     "name": "stdout",
     "output_type": "stream",
     "text": [
      "time: 20 ms\n"
     ]
    }
   ],
   "source": [
    "train_aug = pd.DataFrame(aug_data, columns=['fn', 'label'])"
   ]
  },
  {
   "cell_type": "code",
   "execution_count": 349,
   "metadata": {},
   "outputs": [
    {
     "data": {
      "text/plain": [
       "<AxesSubplot:ylabel='Frequency'>"
      ]
     },
     "execution_count": 349,
     "metadata": {},
     "output_type": "execute_result"
    },
    {
     "data": {
      "image/png": "[encoded data removed]",
      "text/plain": [
       "<Figure size 432x288 with 1 Axes>"
      ]
     },
     "metadata": {
      "needs_background": "light"
     },
     "output_type": "display_data"
    },
    {
     "name": "stdout",
     "output_type": "stream",
     "text": [
      "time: 235 ms\n"
     ]
    }
   ],
   "source": [
    "# Plot a histogram showing how common different counts are\n",
    "train_aug.groupby('label').count()['fn'].plot(kind='hist')"
   ]
  },
  {
   "cell_type": "code",
   "execution_count": 350,
   "metadata": {},
   "outputs": [
    {
     "data": {
      "text/plain": [
       "((1109, 2), (47019, 2))"
      ]
     },
     "execution_count": 350,
     "metadata": {},
     "output_type": "execute_result"
    },
    {
     "name": "stdout",
     "output_type": "stream",
     "text": [
      "time: 2.59 ms\n"
     ]
    }
   ],
   "source": [
    "train.shape, train_aug.shape"
   ]
  },
  {
   "cell_type": "code",
   "execution_count": 65,
   "metadata": {},
   "outputs": [
    {
     "data": {
      "text/plain": [
       "<AxesSubplot:ylabel='Frequency'>"
      ]
     },
     "execution_count": 65,
     "metadata": {},
     "output_type": "execute_result"
    },
    {
     "data": {
      "image/png": "[encoded data removed]",
      "text/plain": [
       "<Figure size 432x288 with 1 Axes>"
      ]
     },
     "metadata": {
      "needs_background": "light"
     },
     "output_type": "display_data"
    }
   ],
   "source": [
    "# Plot a histogram showing how common different counts are\n",
    "train_aug.groupby('label').count()['fn'].plot(kind='hist')"
   ]
  },
  {
   "cell_type": "code",
   "execution_count": 475,
   "metadata": {},
   "outputs": [
    {
     "data": {
      "text/plain": [
       "((1109, 2), (47019, 2))"
      ]
     },
     "execution_count": 475,
     "metadata": {},
     "output_type": "execute_result"
    },
    {
     "name": "stdout",
     "output_type": "stream",
     "text": [
      "time: 1.91 ms\n"
     ]
    }
   ],
   "source": [
    "train.shape, train_aug.shape"
   ]
  },
  {
   "cell_type": "code",
   "execution_count": 491,
   "metadata": {},
   "outputs": [
    {
     "name": "stdout",
     "output_type": "stream",
     "text": [
      "time: 7.51 ms\n"
     ]
    }
   ],
   "source": [
    "df = pd.concat([train, train_aug]).reset_index(drop=True)"
   ]
  },
  {
   "cell_type": "code",
   "execution_count": 476,
   "metadata": {},
   "outputs": [
    {
     "name": "stdout",
     "output_type": "stream",
     "text": [
      "time: 2.38 ms\n"
     ]
    }
   ],
   "source": [
    "#df = pd.concat([train, train_new]).reset_index(drop=True)"
   ]
  },
  {
   "cell_type": "code",
   "execution_count": 492,
   "metadata": {},
   "outputs": [
    {
     "data": {
      "text/plain": [
       "(48128, 2)"
      ]
     },
     "execution_count": 492,
     "metadata": {},
     "output_type": "execute_result"
    },
    {
     "name": "stdout",
     "output_type": "stream",
     "text": [
      "time: 1.98 ms\n"
     ]
    }
   ],
   "source": [
    "df.shape #12064"
   ]
  },
  {
   "cell_type": "code",
   "execution_count": 493,
   "metadata": {},
   "outputs": [
    {
     "data": {
      "text/html": [
       "<div>\n",
       "<style scoped>\n",
       "    .dataframe tbody tr th:only-of-type {\n",
       "        vertical-align: middle;\n",
       "    }\n",
       "\n",
       "    .dataframe tbody tr th {\n",
       "        vertical-align: top;\n",
       "    }\n",
       "\n",
       "    .dataframe thead th {\n",
       "        text-align: right;\n",
       "    }\n",
       "</style>\n",
       "<table border=\"1\" class=\"dataframe\">\n",
       "  <thead>\n",
       "    <tr style=\"text-align: right;\">\n",
       "      <th></th>\n",
       "      <th>fn</th>\n",
       "      <th>label</th>\n",
       "    </tr>\n",
       "  </thead>\n",
       "  <tbody>\n",
       "    <tr>\n",
       "      <th>0</th>\n",
       "      <td>audio_files/IV38R7F.wav</td>\n",
       "      <td>akawuka</td>\n",
       "    </tr>\n",
       "    <tr>\n",
       "      <th>1</th>\n",
       "      <td>audio_files/KM4SKWT.wav</td>\n",
       "      <td>banana</td>\n",
       "    </tr>\n",
       "  </tbody>\n",
       "</table>\n",
       "</div>"
      ],
      "text/plain": [
       "                        fn    label\n",
       "0  audio_files/IV38R7F.wav  akawuka\n",
       "1  audio_files/KM4SKWT.wav   banana"
      ]
     },
     "execution_count": 493,
     "metadata": {},
     "output_type": "execute_result"
    },
    {
     "name": "stdout",
     "output_type": "stream",
     "text": [
      "time: 6.09 ms\n"
     ]
    }
   ],
   "source": [
    "df.head(2)"
   ]
  },
  {
   "cell_type": "code",
   "execution_count": 354,
   "metadata": {},
   "outputs": [
    {
     "name": "stdout",
     "output_type": "stream",
     "text": [
      "time: 165 ms\n"
     ]
    }
   ],
   "source": [
    "#df.to_csv('submission_1_train_data.csv', index=False)\n",
    "df.to_csv('submission_2_train_data.csv', index=False)"
   ]
  },
  {
   "cell_type": "markdown",
   "metadata": {},
   "source": [
    "# Preprocessing"
   ]
  },
  {
   "cell_type": "code",
   "execution_count": null,
   "metadata": {},
   "outputs": [],
   "source": [
    "from sklearn.preprocessing import LabelEncoder\n",
    "from tensorflow.keras.utils import to_categorical\n",
    "from sklearn.model_selection import train_test_split "
   ]
  },
  {
   "cell_type": "code",
   "execution_count": 74,
   "metadata": {},
   "outputs": [],
   "source": [
    "def extract_features(file_name):\n",
    "   \n",
    "    try:\n",
    "        audio, sample_rate = librosa.load(file_name, res_type='kaiser_fast') \n",
    "        mfccs = librosa.feature.mfcc(y=audio, sr=sample_rate, n_mfcc=40)\n",
    "        mfccsscaled = np.mean(mfccs.T, axis=0)\n",
    "        \n",
    "    except Exception as e:\n",
    "        print(\"Error encountered while parsing file: \", file)\n",
    "        return None \n",
    "     \n",
    "    return mfccsscaled"
   ]
  },
  {
   "cell_type": "code",
   "execution_count": 494,
   "metadata": {},
   "outputs": [
    {
     "name": "stdout",
     "output_type": "stream",
     "text": [
      "time: 23min 27s\n"
     ]
    }
   ],
   "source": [
    "features = []\n",
    "\n",
    "for index, row in df.iterrows():\n",
    "    \n",
    "    data = extract_features(row[\"fn\"]) #Path(row[\"fn\"])\n",
    "    \n",
    "    features.append([data, row['label']])"
   ]
  },
  {
   "cell_type": "code",
   "execution_count": 495,
   "metadata": {},
   "outputs": [
    {
     "name": "stdout",
     "output_type": "stream",
     "text": [
      "time: 21.8 ms\n"
     ]
    }
   ],
   "source": [
    "featuresdf = pd.DataFrame(features, columns=['feature','class_label'])"
   ]
  },
  {
   "cell_type": "code",
   "execution_count": 496,
   "metadata": {},
   "outputs": [
    {
     "data": {
      "text/plain": [
       "(48128, 2)"
      ]
     },
     "execution_count": 496,
     "metadata": {},
     "output_type": "execute_result"
    },
    {
     "name": "stdout",
     "output_type": "stream",
     "text": [
      "time: 2.11 ms\n"
     ]
    }
   ],
   "source": [
    "featuresdf.shape #1109"
   ]
  },
  {
   "cell_type": "code",
   "execution_count": 497,
   "metadata": {},
   "outputs": [
    {
     "data": {
      "text/plain": [
       "0"
      ]
     },
     "execution_count": 497,
     "metadata": {},
     "output_type": "execute_result"
    },
    {
     "name": "stdout",
     "output_type": "stream",
     "text": [
      "time: 8.91 ms\n"
     ]
    }
   ],
   "source": [
    "featuresdf['feature'].isnull().sum()"
   ]
  },
  {
   "cell_type": "code",
   "execution_count": 498,
   "metadata": {},
   "outputs": [
    {
     "name": "stdout",
     "output_type": "stream",
     "text": [
      "time: 71.7 ms\n"
     ]
    }
   ],
   "source": [
    "# Convert features and corresponding classification labels into numpy arrays\n",
    "X = np.array(featuresdf.feature.tolist())\n",
    "y = np.array(featuresdf.class_label.tolist())\n",
    "\n",
    "# Encode the classification labels\n",
    "le = LabelEncoder()\n",
    "yy = to_categorical(le.fit_transform(y)) "
   ]
  },
  {
   "cell_type": "code",
   "execution_count": 361,
   "metadata": {},
   "outputs": [
    {
     "name": "stdout",
     "output_type": "stream",
     "text": [
      "time: 35.1 ms\n"
     ]
    }
   ],
   "source": [
    "x_train, x_test, y_train, y_test = train_test_split(X, yy, test_size=0.2, random_state = 42)"
   ]
  },
  {
   "cell_type": "code",
   "execution_count": 362,
   "metadata": {},
   "outputs": [
    {
     "data": {
      "text/plain": [
       "(40,)"
      ]
     },
     "execution_count": 362,
     "metadata": {},
     "output_type": "execute_result"
    },
    {
     "name": "stdout",
     "output_type": "stream",
     "text": [
      "time: 5.62 ms\n"
     ]
    }
   ],
   "source": [
    "featuresdf.loc[0, 'feature'].shape"
   ]
  },
  {
   "cell_type": "code",
   "execution_count": 363,
   "metadata": {},
   "outputs": [
    {
     "data": {
      "text/plain": [
       "((38502, 40), (9626, 40))"
      ]
     },
     "execution_count": 363,
     "metadata": {},
     "output_type": "execute_result"
    },
    {
     "name": "stdout",
     "output_type": "stream",
     "text": [
      "time: 2.47 ms\n"
     ]
    }
   ],
   "source": [
    "x_train.shape, x_test.shape"
   ]
  },
  {
   "cell_type": "markdown",
   "metadata": {},
   "source": [
    "# Modeling v1 : Wavenet"
   ]
  },
  {
   "cell_type": "code",
   "execution_count": 364,
   "metadata": {},
   "outputs": [
    {
     "name": "stdout",
     "output_type": "stream",
     "text": [
      "time: 697 µs\n"
     ]
    }
   ],
   "source": [
    "import tensorflow as tf\n",
    "from tensorflow.keras.utils import HDF5Matrix\n",
    "from tensorflow.keras import backend as K\n",
    "from tensorflow.keras.models import Model, Sequential\n",
    "from tensorflow.keras.layers import Input, Dense, Conv2D, Add, MaxPooling2D\n",
    "from tensorflow.keras.layers import Lambda, Concatenate, concatenate, Activation, Dropout, Flatten\n",
    "from tensorflow.keras.regularizers import l2\n",
    "from tensorflow.keras.initializers import TruncatedNormal\n",
    "from tensorflow.keras.optimizers import Adam\n",
    "from tensorflow.keras.callbacks import EarlyStopping, ReduceLROnPlateau\n",
    "\n",
    "import numpy as np\n",
    "from sklearn import metrics"
   ]
  },
  {
   "cell_type": "code",
   "execution_count": 365,
   "metadata": {},
   "outputs": [
    {
     "name": "stdout",
     "output_type": "stream",
     "text": [
      "time: 762 µs\n"
     ]
    }
   ],
   "source": [
    "num_rows = 40\n",
    "num_columns = 1\n",
    "num_channels = 1\n",
    "\n",
    "x_train = x_train.reshape(x_train.shape[0], num_rows, num_columns, num_channels)\n",
    "x_test = x_test.reshape(x_test.shape[0], num_rows, num_columns, num_channels)\n",
    "\n",
    "num_labels = yy.shape[1]\n",
    "filter_size = 2"
   ]
  },
  {
   "cell_type": "code",
   "execution_count": 366,
   "metadata": {},
   "outputs": [
    {
     "data": {
      "text/plain": [
       "(38502, 40, 1, 1)"
      ]
     },
     "execution_count": 366,
     "metadata": {},
     "output_type": "execute_result"
    },
    {
     "name": "stdout",
     "output_type": "stream",
     "text": [
      "time: 2.06 ms\n"
     ]
    }
   ],
   "source": [
    "x_train.shape"
   ]
  },
  {
   "cell_type": "code",
   "execution_count": null,
   "metadata": {},
   "outputs": [],
   "source": [
    "best_acc=0.5"
   ]
  },
  {
   "cell_type": "code",
   "execution_count": 367,
   "metadata": {},
   "outputs": [
    {
     "name": "stdout",
     "output_type": "stream",
     "text": [
      "time: 153 ms\n"
     ]
    }
   ],
   "source": [
    "def DC_CNN_Block(nb_filter, filter_length, dilation, l2_layer_reg):\n",
    "\n",
    "    def f(input_):\n",
    "        residual = input_\n",
    "        layer_out = Conv2D(filters=nb_filter,\n",
    "                           kernel_size=filter_length,\n",
    "                           dilation_rate=dilation,\n",
    "                           activation='linear',\n",
    "                           padding='same', #'causal'\n",
    "                           use_bias=False,\n",
    "                           kernel_initializer=TruncatedNormal(mean=0.0,\n",
    "                                                              stddev=0.05,\n",
    "                                                              seed=42),\n",
    "                           kernel_regularizer=l2(l2_layer_reg))(input_)\n",
    "        \n",
    "        layer_out = Activation('selu')(layer_out)\n",
    "        \n",
    "        skip_out = Conv2D(1,(1,1),\n",
    "                          activation='linear',\n",
    "                          use_bias=False,\n",
    "                          kernel_initializer=TruncatedNormal(mean=0.0,\n",
    "                                                             stddev=0.05,\n",
    "                                                             seed=42),\n",
    "                          kernel_regularizer=l2(l2_layer_reg))(layer_out)\n",
    "        network_in = Conv2D(1,(1,1),\n",
    "                            activation='linear',\n",
    "                            use_bias=False,\n",
    "                            kernel_initializer=TruncatedNormal(mean=0.0,\n",
    "                                                               stddev=0.05,\n",
    "                                                               seed=42),\n",
    "                            kernel_regularizer=l2(l2_layer_reg))(layer_out)\n",
    "        network_out = Add()([residual, network_in])\n",
    "        return network_out, skip_out\n",
    "    return f\n",
    "\n",
    "\n",
    "\n",
    "def create_model(learning_rate,\n",
    "                 n_filters, filter_width, dilation, cnn_dropout, num_dense_nodes, dense_dropout):\n",
    "    \n",
    "    cnn_input = Input(batch_shape=(None, 128, 216, 1))\n",
    "\n",
    "    # Define an input history series and pass it through a stack of dilated causal convolutions. \n",
    "    l1a, l1b = DC_CNN_Block(n_filters,filter_width,dilation**0,0.001)(cnn_input)    \n",
    "    l2a, l2b = DC_CNN_Block(n_filters,filter_width,dilation**1,0.001)(l1a) \n",
    "    l3a, l3b = DC_CNN_Block(n_filters,filter_width,dilation**2,0.001)(l2a)\n",
    "    l4a, l4b = DC_CNN_Block(n_filters,filter_width,dilation**3,0.001)(l3a)\n",
    "    #l5a, l5b = DC_CNN_Block(n_filters,filter_width,dilation**4,0.001)(l4a)\n",
    "    #l6a, l6b = DC_CNN_Block(n_filters,filter_width,dilation**5,0.001)(l5a)\n",
    "    #l6b = Dropout(cnn_dropout)(l6b) # Dropout used to limit influence of earlier data\n",
    "    #l7a, l7b = DC_CNN_Block(n_filters,filter_width,dilation**6,0.001)(l6a)\n",
    "    #l7b = Dropout(cnn_dropout)(l7b) # Dropout used to limit influence of earlier data\n",
    "    #l8 = Add()([l1b, l2b, l3b, l4b, l5b, l6b, l7b])\n",
    "    \n",
    "    l4b = Dropout(cnn_dropout)(l4b)\n",
    "    l8 = Add()([l1b, l2b, l3b, l4b])\n",
    "    l9 = Activation('relu')(l8)\n",
    "    \n",
    "    #l19=MaxPooling1D(2)(l9)\n",
    "    #l10 = Dense(num_dense_nodes, activation='relu')(l9)\n",
    "    #l11 = Dropout(dense_dropout)(l10)\n",
    "    #model = Model(cnn_input, main_out)\n",
    "   \n",
    "    pool2 = MaxPooling2D(pool_size=(2, 2))(l9)\n",
    "    flat = Flatten()(pool2)\n",
    "    \n",
    "    hidden1 = Dense(num_dense_nodes, activation='relu')(flat)\n",
    "    output = Dense(n_classes, activation='sigmoid')(hidden1)\n",
    "    \n",
    "    model = Model(inputs=cnn_input, outputs=output)\n",
    "    model.compile(optimizer=Adam(lr=learning_rate), \n",
    "                           loss='sparse_categorical_crossentropy',\n",
    "                           metrics='accuracy')\n",
    "    \n",
    "    print(model.summary())\n",
    "    \n",
    "    return model"
   ]
  },
  {
   "cell_type": "code",
   "execution_count": 376,
   "metadata": {},
   "outputs": [
    {
     "name": "stdout",
     "output_type": "stream",
     "text": [
      "time: 467 µs\n"
     ]
    }
   ],
   "source": [
    "learning_rate = 0.01\n",
    "n_filters = 32\n",
    "filter_width = (4, 4)\n",
    "dilation = 3\n",
    "cnn_dropout = 0.2\n",
    "num_dense_nodes = 64\n",
    "dense_dropout = 0.2\n",
    "mini_batch = 128\n",
    "num_epoch = 30"
   ]
  },
  {
   "cell_type": "code",
   "execution_count": null,
   "metadata": {},
   "outputs": [],
   "source": [
    "model = create_model(learning_rate=learning_rate,\n",
    "                     n_filters=n_filters,\n",
    "                     filter_width=filter_width,\n",
    "                     dilation=dilation,\n",
    "                     cnn_dropout=cnn_dropout,\n",
    "                     num_dense_nodes=num_dense_nodes,\n",
    "                     dense_dropout=dense_dropout)"
   ]
  },
  {
   "cell_type": "code",
   "execution_count": 378,
   "metadata": {},
   "outputs": [
    {
     "name": "stdout",
     "output_type": "stream",
     "text": [
      "time: 469 µs\n"
     ]
    }
   ],
   "source": [
    "reduce_lr = ReduceLROnPlateau(monitor='loss', factor=0.5,\n",
    "                              patience=5, min_lr=0.001)\n",
    "early_stop = EarlyStopping(monitor='val_loss', patience=5)"
   ]
  },
  {
   "cell_type": "code",
   "execution_count": null,
   "metadata": {},
   "outputs": [],
   "source": [
    "#(128, 216, 1) (126, 214, 1)\n",
    "history = model.fit(train_x, train_y,\n",
    "                    batch_size=mini_batch,\n",
    "                    epochs=num_epoch, \n",
    "                    validation_data=(test_x, test_y))"
   ]
  },
  {
   "cell_type": "code",
   "execution_count": 402,
   "metadata": {},
   "outputs": [
    {
     "name": "stdout",
     "output_type": "stream",
     "text": [
      "Accuracy: 75.15%\n",
      "time: 10.4 ms\n"
     ]
    }
   ],
   "source": [
    "# first run\n",
    "accuracy = model.evaluate(x_test, y_test, verbose=0)\n",
    "print(\"Accuracy: %.2f%%\" % (accuracy * 100.0))"
   ]
  },
  {
   "cell_type": "code",
   "execution_count": 474,
   "metadata": {},
   "outputs": [
    {
     "name": "stdout",
     "output_type": "stream",
     "text": [
      "time: 93.1 ms\n"
     ]
    }
   ],
   "source": [
    "model.save_model('models/wavenet_sub1_75.model')"
   ]
  },
  {
   "cell_type": "markdown",
   "metadata": {},
   "source": [
    "### Hyperparamer optimization"
   ]
  },
  {
   "cell_type": "code",
   "execution_count": null,
   "metadata": {},
   "outputs": [],
   "source": [
    "from skopt.space import Real, Integer\n",
    "from skopt import gp_minimize\n",
    "from skopt.utils import use_named_args"
   ]
  },
  {
   "cell_type": "code",
   "execution_count": null,
   "metadata": {},
   "outputs": [],
   "source": [
    "def run_hyperparams_opt(n_calls, default_parameters):\n",
    "\n",
    "    # Hyperparameters\n",
    "    dim_learning_rate = Real(low=1e-5, high=1e-1, prior='log-uniform', name='learning_rate')\n",
    "    dim_n_filters = Integer(low=16, high=64, name='n_filters')\n",
    "    dim_filter_width = Integer(low=2, high=8, name='filter_width')\n",
    "    dim_dilation = Integer(low=2, high=4, name='dilation')\n",
    "    dim_cnn_dropout = Real(low=.2, high=.8, prior='uniform', name='cnn_dropout')\n",
    "    dim_dilation = Integer(low=2, high=4, name='dilation')\n",
    "    dim_num_dense_nodes = Integer(low=128, high=2056, name='num_dense_nodes')\n",
    "    dim_dense_dropout = Real(low=0.2,high=.6, prior='uniform', name='dense_dropout')\n",
    "    dim_mini_batch = Integer(low=4, high=8, name='mini_batch')\n",
    "    dim_num_epoch = Integer(low=10, high=150, name='num_epoch')\n",
    "\n",
    "    dimensions = [dim_learning_rate,\n",
    "                  dim_n_filters,\n",
    "                  dim_filter_width,\n",
    "                  dim_dilation,\n",
    "                  dim_cnn_dropout,\n",
    "                  dim_num_dense_nodes,\n",
    "                  dim_dense_dropout,\n",
    "                  dim_mini_batch,\n",
    "                  dim_num_epoch\n",
    "                  ]\n",
    "    \n",
    "    @use_named_args(dimensions=dimensions)\n",
    "    def fitness(learning_rate, n_filters, filter_width, dilation,\n",
    "                cnn_dropout,num_dense_nodes, dense_dropout, mini_batch, num_epoch):\n",
    "\n",
    "        # Print the hyper-parameters.\n",
    "        print('learning rate: {0:.1e}'.format(learning_rate))\n",
    "        print('n_filters', n_filters)\n",
    "        print('filter_width:', filter_width)\n",
    "        print('dilation:', dilation)\n",
    "        print('cnn_dropout:', cnn_dropout)\n",
    "        print('num_dense_nodes:', num_dense_nodes)\n",
    "        print('dense_dropout:', dense_dropout)\n",
    "        print('mini_batch:', mini_batch)\n",
    "        print('num_epoch:', num_epoch)\n",
    "\n",
    "        # Create the neural network with these hyper-parameters.\n",
    "        parallel_model, model = create_model(learning_rate=learning_rate,\n",
    "                                             n_filters=n_filters,\n",
    "                                             filter_width=filter_width,\n",
    "                                             dilation=dilation,\n",
    "                                             cnn_dropout=cnn_dropout,\n",
    "                                             num_dense_nodes=num_dense_nodes,\n",
    "                                             dense_dropout=dense_dropout)\n",
    "\n",
    "        \n",
    "        # Use Keras to train the model.\n",
    "        history = parallel_model.fit(x=X_train,\n",
    "                                     y=[y_train], \n",
    "                                     validation_data=validation_data,\n",
    "                                     shuffle=\"batch\",\n",
    "                                     verbose=2,\n",
    "                                     epochs=num_epoch,\n",
    "                                     batch_size=(2**mini_batch)\n",
    "                                    )\n",
    "        \n",
    "        params = [learning_rate, n_filters, filter_width, dilation,\n",
    "                  cnn_dropout,num_dense_nodes, dense_dropout, mini_batch, num_epoch]\n",
    "        \n",
    "        history = history.history['val_accuracy']\n",
    "        acc = history[-1]\n",
    "\n",
    "        global best_acc\n",
    "\n",
    "        if acc < best_acc:\n",
    "            # Update the regression error.\n",
    "            best_acc = acc\n",
    "\n",
    "        # Delete the Keras model with these hyper-parameters from memory.\n",
    "        del model\n",
    "        K.clear_session()\n",
    "\n",
    "        return acc\n",
    "    \n",
    "    _ = gp_minimize(func=fitness,\n",
    "                    dimensions=dimensions,\n",
    "                    acq_func='EI', # Expected Improvement\n",
    "                    n_calls=n_calls,\n",
    "                    x0=default_parameters)\n",
    "    \n",
    "    return print(\"Hyper parameter tunig completed\")"
   ]
  },
  {
   "cell_type": "code",
   "execution_count": null,
   "metadata": {},
   "outputs": [],
   "source": [
    "default_parameters = [learning_rate, n_filters, filter_width, dilation,\n",
    "                      cnn_dropout,num_dense_nodes, dense_dropout, mini_batch, num_epoch]"
   ]
  },
  {
   "cell_type": "code",
   "execution_count": null,
   "metadata": {},
   "outputs": [],
   "source": [
    "run_hyperparams_opt(n_calls, default_parameters)"
   ]
  },
  {
   "cell_type": "markdown",
   "metadata": {
    "colab": {},
    "colab_type": "code",
    "id": "pM1d_33lW9Bq"
   },
   "source": [
    "# 3. Predict & export"
   ]
  },
  {
   "cell_type": "code",
   "execution_count": 449,
   "metadata": {},
   "outputs": [
    {
     "data": {
      "text/html": [
       "<div>\n",
       "<style scoped>\n",
       "    .dataframe tbody tr th:only-of-type {\n",
       "        vertical-align: middle;\n",
       "    }\n",
       "\n",
       "    .dataframe tbody tr th {\n",
       "        vertical-align: top;\n",
       "    }\n",
       "\n",
       "    .dataframe thead th {\n",
       "        text-align: right;\n",
       "    }\n",
       "</style>\n",
       "<table border=\"1\" class=\"dataframe\">\n",
       "  <thead>\n",
       "    <tr style=\"text-align: right;\">\n",
       "      <th></th>\n",
       "      <th>fn</th>\n",
       "      <th>maize streak virus</th>\n",
       "      <th>disease</th>\n",
       "      <th>okukkoola</th>\n",
       "      <th>muwogo</th>\n",
       "      <th>mpeke</th>\n",
       "      <th>mucungwa</th>\n",
       "      <th>greens</th>\n",
       "      <th>garden</th>\n",
       "      <th>mango</th>\n",
       "      <th>...</th>\n",
       "      <th>kasaanyi</th>\n",
       "      <th>suckers</th>\n",
       "      <th>insects</th>\n",
       "      <th>fertilizer</th>\n",
       "      <th>nakavundira</th>\n",
       "      <th>ekiwojjolo</th>\n",
       "      <th>akawuka</th>\n",
       "      <th>ddagala</th>\n",
       "      <th>ebiwojjolo</th>\n",
       "      <th>obutungulu</th>\n",
       "    </tr>\n",
       "  </thead>\n",
       "  <tbody>\n",
       "    <tr>\n",
       "      <th>0</th>\n",
       "      <td>audio_files/00118N3.wav</td>\n",
       "      <td>0</td>\n",
       "      <td>0</td>\n",
       "      <td>0</td>\n",
       "      <td>0</td>\n",
       "      <td>0</td>\n",
       "      <td>0</td>\n",
       "      <td>0</td>\n",
       "      <td>0</td>\n",
       "      <td>0</td>\n",
       "      <td>...</td>\n",
       "      <td>0</td>\n",
       "      <td>0</td>\n",
       "      <td>0</td>\n",
       "      <td>0</td>\n",
       "      <td>0</td>\n",
       "      <td>0</td>\n",
       "      <td>0</td>\n",
       "      <td>0</td>\n",
       "      <td>0</td>\n",
       "      <td>0</td>\n",
       "    </tr>\n",
       "    <tr>\n",
       "      <th>1</th>\n",
       "      <td>audio_files/00P0NMV.wav</td>\n",
       "      <td>0</td>\n",
       "      <td>0</td>\n",
       "      <td>0</td>\n",
       "      <td>0</td>\n",
       "      <td>0</td>\n",
       "      <td>0</td>\n",
       "      <td>0</td>\n",
       "      <td>0</td>\n",
       "      <td>0</td>\n",
       "      <td>...</td>\n",
       "      <td>0</td>\n",
       "      <td>0</td>\n",
       "      <td>0</td>\n",
       "      <td>0</td>\n",
       "      <td>0</td>\n",
       "      <td>0</td>\n",
       "      <td>0</td>\n",
       "      <td>0</td>\n",
       "      <td>0</td>\n",
       "      <td>0</td>\n",
       "    </tr>\n",
       "    <tr>\n",
       "      <th>2</th>\n",
       "      <td>audio_files/01QEEZI.wav</td>\n",
       "      <td>0</td>\n",
       "      <td>0</td>\n",
       "      <td>0</td>\n",
       "      <td>0</td>\n",
       "      <td>0</td>\n",
       "      <td>0</td>\n",
       "      <td>0</td>\n",
       "      <td>0</td>\n",
       "      <td>0</td>\n",
       "      <td>...</td>\n",
       "      <td>0</td>\n",
       "      <td>0</td>\n",
       "      <td>0</td>\n",
       "      <td>0</td>\n",
       "      <td>0</td>\n",
       "      <td>0</td>\n",
       "      <td>0</td>\n",
       "      <td>0</td>\n",
       "      <td>0</td>\n",
       "      <td>0</td>\n",
       "    </tr>\n",
       "    <tr>\n",
       "      <th>3</th>\n",
       "      <td>audio_files/037YAED.wav</td>\n",
       "      <td>0</td>\n",
       "      <td>0</td>\n",
       "      <td>0</td>\n",
       "      <td>0</td>\n",
       "      <td>0</td>\n",
       "      <td>0</td>\n",
       "      <td>0</td>\n",
       "      <td>0</td>\n",
       "      <td>0</td>\n",
       "      <td>...</td>\n",
       "      <td>0</td>\n",
       "      <td>0</td>\n",
       "      <td>0</td>\n",
       "      <td>0</td>\n",
       "      <td>0</td>\n",
       "      <td>0</td>\n",
       "      <td>0</td>\n",
       "      <td>0</td>\n",
       "      <td>0</td>\n",
       "      <td>0</td>\n",
       "    </tr>\n",
       "    <tr>\n",
       "      <th>4</th>\n",
       "      <td>audio_files/0382N0Y.wav</td>\n",
       "      <td>0</td>\n",
       "      <td>0</td>\n",
       "      <td>0</td>\n",
       "      <td>0</td>\n",
       "      <td>0</td>\n",
       "      <td>0</td>\n",
       "      <td>0</td>\n",
       "      <td>0</td>\n",
       "      <td>0</td>\n",
       "      <td>...</td>\n",
       "      <td>0</td>\n",
       "      <td>0</td>\n",
       "      <td>0</td>\n",
       "      <td>0</td>\n",
       "      <td>0</td>\n",
       "      <td>0</td>\n",
       "      <td>0</td>\n",
       "      <td>0</td>\n",
       "      <td>0</td>\n",
       "      <td>0</td>\n",
       "    </tr>\n",
       "  </tbody>\n",
       "</table>\n",
       "<p>5 rows × 194 columns</p>\n",
       "</div>"
      ],
      "text/plain": [
       "                        fn  maize streak virus  disease  okukkoola  muwogo  \\\n",
       "0  audio_files/00118N3.wav                   0        0          0       0   \n",
       "1  audio_files/00P0NMV.wav                   0        0          0       0   \n",
       "2  audio_files/01QEEZI.wav                   0        0          0       0   \n",
       "3  audio_files/037YAED.wav                   0        0          0       0   \n",
       "4  audio_files/0382N0Y.wav                   0        0          0       0   \n",
       "\n",
       "   mpeke  mucungwa  greens  garden  mango  ...  kasaanyi  suckers  insects  \\\n",
       "0      0         0       0       0      0  ...         0        0        0   \n",
       "1      0         0       0       0      0  ...         0        0        0   \n",
       "2      0         0       0       0      0  ...         0        0        0   \n",
       "3      0         0       0       0      0  ...         0        0        0   \n",
       "4      0         0       0       0      0  ...         0        0        0   \n",
       "\n",
       "   fertilizer  nakavundira  ekiwojjolo  akawuka  ddagala  ebiwojjolo  \\\n",
       "0           0            0           0        0        0           0   \n",
       "1           0            0           0        0        0           0   \n",
       "2           0            0           0        0        0           0   \n",
       "3           0            0           0        0        0           0   \n",
       "4           0            0           0        0        0           0   \n",
       "\n",
       "   obutungulu  \n",
       "0           0  \n",
       "1           0  \n",
       "2           0  \n",
       "3           0  \n",
       "4           0  \n",
       "\n",
       "[5 rows x 194 columns]"
      ]
     },
     "execution_count": 449,
     "metadata": {},
     "output_type": "execute_result"
    },
    {
     "name": "stdout",
     "output_type": "stream",
     "text": [
      "time: 51.8 ms\n"
     ]
    }
   ],
   "source": [
    "ss = pd.read_csv('SampleSubmission.csv')\n",
    "ss.head()"
   ]
  },
  {
   "cell_type": "code",
   "execution_count": 450,
   "metadata": {},
   "outputs": [
    {
     "data": {
      "text/plain": [
       "1017"
      ]
     },
     "execution_count": 450,
     "metadata": {},
     "output_type": "execute_result"
    },
    {
     "name": "stdout",
     "output_type": "stream",
     "text": [
      "time: 2.66 ms\n"
     ]
    }
   ],
   "source": [
    "ss['fn'].nunique()"
   ]
  },
  {
   "cell_type": "code",
   "execution_count": 460,
   "metadata": {},
   "outputs": [
    {
     "data": {
      "text/plain": [
       "array([-2.64064209e+02,  1.15357208e+02,  3.56422844e+01,  7.15047216e+00,\n",
       "       -4.45182705e+00,  2.60328808e+01, -9.96319771e+00, -9.29498196e+00,\n",
       "       -3.96354318e+00, -7.21372032e+00,  1.45025980e+00,  2.17741752e+00,\n",
       "       -7.71069908e+00, -9.35525513e+00, -1.01593390e+01, -4.18746996e+00,\n",
       "       -9.13389587e+00, -7.35200500e+00, -1.22530775e+01, -1.59574676e+00,\n",
       "       -1.39254560e+01, -1.26553082e+00, -1.03319435e+01, -4.59925365e+00,\n",
       "       -9.66093636e+00, -1.03653714e-01, -4.37230873e+00, -3.80314350e+00,\n",
       "       -4.88327837e+00,  3.22384119e+00, -3.65958643e+00,  6.57472372e-01,\n",
       "       -6.41588688e-01,  1.15996277e+00, -5.62780380e-01,  2.28736830e+00,\n",
       "       -2.05051184e+00,  1.59229243e+00, -2.05104208e+00,  1.22838104e+00],\n",
       "      dtype=float32)"
      ]
     },
     "execution_count": 460,
     "metadata": {},
     "output_type": "execute_result"
    },
    {
     "name": "stdout",
     "output_type": "stream",
     "text": [
      "time: 2.61 ms\n"
     ]
    }
   ],
   "source": [
    "x_pred"
   ]
  },
  {
   "cell_type": "code",
   "execution_count": 466,
   "metadata": {},
   "outputs": [
    {
     "data": {
      "text/plain": [
       "(1, 40)"
      ]
     },
     "execution_count": 466,
     "metadata": {},
     "output_type": "execute_result"
    },
    {
     "name": "stdout",
     "output_type": "stream",
     "text": [
      "time: 2.19 ms\n"
     ]
    }
   ],
   "source": [
    "x_test[0].reshape(1, -1).shape"
   ]
  },
  {
   "cell_type": "code",
   "execution_count": 468,
   "metadata": {},
   "outputs": [
    {
     "name": "stdout",
     "output_type": "stream",
     "text": [
      "time: 1min 30s\n"
     ]
    }
   ],
   "source": [
    "for index, row in ss.iterrows():\n",
    "    \n",
    "    x_pred = extract_features(Path(row[\"fn\"]))\n",
    "    \n",
    "    #print(data.shape)\n",
    "    #print(x_pred.shape)\n",
    "    #x_pred = data.reshape(1, num_rows, num_columns, num_channels)\n",
    "    \n",
    "    y_pred = model.predict_proba(x_pred.reshape(1, -1))\n",
    "    \n",
    "    #label = le.inverse_transform(y_pred)\n",
    "    #labels = le.inverse_transform([i for i in range(num_labels)])\n",
    "    #print(x_pred.shape, y_pred.shape)\n",
    "    #print(labels.shape)\n",
    "    \n",
    "    labels = model.classes_\n",
    "    \n",
    "    ss.loc[index, list(labels)] = y_pred[0]"
   ]
  },
  {
   "cell_type": "code",
   "execution_count": 470,
   "metadata": {},
   "outputs": [
    {
     "data": {
      "text/html": [
       "<div>\n",
       "<style scoped>\n",
       "    .dataframe tbody tr th:only-of-type {\n",
       "        vertical-align: middle;\n",
       "    }\n",
       "\n",
       "    .dataframe tbody tr th {\n",
       "        vertical-align: top;\n",
       "    }\n",
       "\n",
       "    .dataframe thead th {\n",
       "        text-align: right;\n",
       "    }\n",
       "</style>\n",
       "<table border=\"1\" class=\"dataframe\">\n",
       "  <thead>\n",
       "    <tr style=\"text-align: right;\">\n",
       "      <th></th>\n",
       "      <th>fn</th>\n",
       "      <th>maize streak virus</th>\n",
       "      <th>disease</th>\n",
       "      <th>okukkoola</th>\n",
       "      <th>muwogo</th>\n",
       "      <th>mpeke</th>\n",
       "      <th>mucungwa</th>\n",
       "      <th>greens</th>\n",
       "      <th>garden</th>\n",
       "      <th>mango</th>\n",
       "      <th>...</th>\n",
       "      <th>kasaanyi</th>\n",
       "      <th>suckers</th>\n",
       "      <th>insects</th>\n",
       "      <th>fertilizer</th>\n",
       "      <th>nakavundira</th>\n",
       "      <th>ekiwojjolo</th>\n",
       "      <th>akawuka</th>\n",
       "      <th>ddagala</th>\n",
       "      <th>ebiwojjolo</th>\n",
       "      <th>obutungulu</th>\n",
       "    </tr>\n",
       "  </thead>\n",
       "  <tbody>\n",
       "    <tr>\n",
       "      <th>0</th>\n",
       "      <td>audio_files/00118N3.wav</td>\n",
       "      <td>0.032328</td>\n",
       "      <td>0.000092</td>\n",
       "      <td>0.007790</td>\n",
       "      <td>0.002580</td>\n",
       "      <td>0.000098</td>\n",
       "      <td>0.003589</td>\n",
       "      <td>0.000578</td>\n",
       "      <td>0.000713</td>\n",
       "      <td>0.000067</td>\n",
       "      <td>...</td>\n",
       "      <td>0.021406</td>\n",
       "      <td>0.030142</td>\n",
       "      <td>0.000363</td>\n",
       "      <td>0.001165</td>\n",
       "      <td>0.001128</td>\n",
       "      <td>0.004206</td>\n",
       "      <td>0.003041</td>\n",
       "      <td>0.000584</td>\n",
       "      <td>0.000523</td>\n",
       "      <td>0.000403</td>\n",
       "    </tr>\n",
       "    <tr>\n",
       "      <th>1</th>\n",
       "      <td>audio_files/00P0NMV.wav</td>\n",
       "      <td>0.000552</td>\n",
       "      <td>0.000329</td>\n",
       "      <td>0.000743</td>\n",
       "      <td>0.000144</td>\n",
       "      <td>0.001476</td>\n",
       "      <td>0.002749</td>\n",
       "      <td>0.000224</td>\n",
       "      <td>0.000206</td>\n",
       "      <td>0.000302</td>\n",
       "      <td>...</td>\n",
       "      <td>0.017953</td>\n",
       "      <td>0.000245</td>\n",
       "      <td>0.000700</td>\n",
       "      <td>0.002161</td>\n",
       "      <td>0.037411</td>\n",
       "      <td>0.002416</td>\n",
       "      <td>0.003280</td>\n",
       "      <td>0.000757</td>\n",
       "      <td>0.003659</td>\n",
       "      <td>0.008395</td>\n",
       "    </tr>\n",
       "    <tr>\n",
       "      <th>2</th>\n",
       "      <td>audio_files/01QEEZI.wav</td>\n",
       "      <td>0.000153</td>\n",
       "      <td>0.000323</td>\n",
       "      <td>0.000911</td>\n",
       "      <td>0.009937</td>\n",
       "      <td>0.000833</td>\n",
       "      <td>0.006951</td>\n",
       "      <td>0.000050</td>\n",
       "      <td>0.000098</td>\n",
       "      <td>0.000136</td>\n",
       "      <td>...</td>\n",
       "      <td>0.000061</td>\n",
       "      <td>0.000086</td>\n",
       "      <td>0.000254</td>\n",
       "      <td>0.000232</td>\n",
       "      <td>0.000195</td>\n",
       "      <td>0.003479</td>\n",
       "      <td>0.000752</td>\n",
       "      <td>0.000035</td>\n",
       "      <td>0.001469</td>\n",
       "      <td>0.001130</td>\n",
       "    </tr>\n",
       "    <tr>\n",
       "      <th>3</th>\n",
       "      <td>audio_files/037YAED.wav</td>\n",
       "      <td>0.000206</td>\n",
       "      <td>0.000434</td>\n",
       "      <td>0.000345</td>\n",
       "      <td>0.059580</td>\n",
       "      <td>0.000632</td>\n",
       "      <td>0.004742</td>\n",
       "      <td>0.000410</td>\n",
       "      <td>0.001577</td>\n",
       "      <td>0.000178</td>\n",
       "      <td>...</td>\n",
       "      <td>0.001242</td>\n",
       "      <td>0.000431</td>\n",
       "      <td>0.000257</td>\n",
       "      <td>0.000150</td>\n",
       "      <td>0.000549</td>\n",
       "      <td>0.000599</td>\n",
       "      <td>0.000392</td>\n",
       "      <td>0.000056</td>\n",
       "      <td>0.000214</td>\n",
       "      <td>0.000831</td>\n",
       "    </tr>\n",
       "    <tr>\n",
       "      <th>4</th>\n",
       "      <td>audio_files/0382N0Y.wav</td>\n",
       "      <td>0.001951</td>\n",
       "      <td>0.000371</td>\n",
       "      <td>0.000335</td>\n",
       "      <td>0.001408</td>\n",
       "      <td>0.011309</td>\n",
       "      <td>0.007171</td>\n",
       "      <td>0.000338</td>\n",
       "      <td>0.000155</td>\n",
       "      <td>0.000387</td>\n",
       "      <td>...</td>\n",
       "      <td>0.001145</td>\n",
       "      <td>0.000174</td>\n",
       "      <td>0.000978</td>\n",
       "      <td>0.000717</td>\n",
       "      <td>0.001937</td>\n",
       "      <td>0.007227</td>\n",
       "      <td>0.000716</td>\n",
       "      <td>0.000462</td>\n",
       "      <td>0.013299</td>\n",
       "      <td>0.005215</td>\n",
       "    </tr>\n",
       "  </tbody>\n",
       "</table>\n",
       "<p>5 rows × 194 columns</p>\n",
       "</div>"
      ],
      "text/plain": [
       "                        fn  maize streak virus   disease  okukkoola    muwogo  \\\n",
       "0  audio_files/00118N3.wav            0.032328  0.000092   0.007790  0.002580   \n",
       "1  audio_files/00P0NMV.wav            0.000552  0.000329   0.000743  0.000144   \n",
       "2  audio_files/01QEEZI.wav            0.000153  0.000323   0.000911  0.009937   \n",
       "3  audio_files/037YAED.wav            0.000206  0.000434   0.000345  0.059580   \n",
       "4  audio_files/0382N0Y.wav            0.001951  0.000371   0.000335  0.001408   \n",
       "\n",
       "      mpeke  mucungwa    greens    garden     mango  ...  kasaanyi   suckers  \\\n",
       "0  0.000098  0.003589  0.000578  0.000713  0.000067  ...  0.021406  0.030142   \n",
       "1  0.001476  0.002749  0.000224  0.000206  0.000302  ...  0.017953  0.000245   \n",
       "2  0.000833  0.006951  0.000050  0.000098  0.000136  ...  0.000061  0.000086   \n",
       "3  0.000632  0.004742  0.000410  0.001577  0.000178  ...  0.001242  0.000431   \n",
       "4  0.011309  0.007171  0.000338  0.000155  0.000387  ...  0.001145  0.000174   \n",
       "\n",
       "    insects  fertilizer  nakavundira  ekiwojjolo   akawuka   ddagala  \\\n",
       "0  0.000363    0.001165     0.001128    0.004206  0.003041  0.000584   \n",
       "1  0.000700    0.002161     0.037411    0.002416  0.003280  0.000757   \n",
       "2  0.000254    0.000232     0.000195    0.003479  0.000752  0.000035   \n",
       "3  0.000257    0.000150     0.000549    0.000599  0.000392  0.000056   \n",
       "4  0.000978    0.000717     0.001937    0.007227  0.000716  0.000462   \n",
       "\n",
       "   ebiwojjolo  obutungulu  \n",
       "0    0.000523    0.000403  \n",
       "1    0.003659    0.008395  \n",
       "2    0.001469    0.001130  \n",
       "3    0.000214    0.000831  \n",
       "4    0.013299    0.005215  \n",
       "\n",
       "[5 rows x 194 columns]"
      ]
     },
     "execution_count": 470,
     "metadata": {},
     "output_type": "execute_result"
    },
    {
     "name": "stdout",
     "output_type": "stream",
     "text": [
      "time: 20.1 ms\n"
     ]
    }
   ],
   "source": [
    "ss.head()"
   ]
  },
  {
   "cell_type": "code",
   "execution_count": 471,
   "metadata": {},
   "outputs": [
    {
     "data": {
      "text/plain": [
       "1.000000001168189"
      ]
     },
     "execution_count": 471,
     "metadata": {},
     "output_type": "execute_result"
    },
    {
     "name": "stdout",
     "output_type": "stream",
     "text": [
      "time: 31.4 ms\n"
     ]
    }
   ],
   "source": [
    "ss.set_index(ss['fn'], drop=True).drop('fn', 1).apply(sum, axis=1).mean()"
   ]
  },
  {
   "cell_type": "code",
   "execution_count": 473,
   "metadata": {},
   "outputs": [
    {
     "name": "stdout",
     "output_type": "stream",
     "text": [
      "time: 414 ms\n"
     ]
    }
   ],
   "source": [
    "ss.to_csv('output/Submission2.csv', index=False)"
   ]
  }
 ],
 "metadata": {
  "accelerator": "GPU",
  "colab": {
   "name": "AudioClas Starter Notebook.ipynb",
   "provenance": []
  },
  "kernelspec": {
   "display_name": "Python 3",
   "language": "python",
   "name": "python3"
  },
  "language_info": {
   "codemirror_mode": {
    "name": "ipython",
    "version": 3
   },
   "file_extension": ".py",
   "mimetype": "text/x-python",
   "name": "python",
   "nbconvert_exporter": "python",
   "pygments_lexer": "ipython3",
   "version": "3.8.2"
  },
  "widgets": {
   "application/vnd.jupyter.widget-state+json": {
    "1fcb169e865045b9beb662bd4aa10f61": {
     "model_module": "@jupyter-widgets/controls",
     "model_name": "HTMLModel",
     "state": {
      "_dom_classes": [],
      "_model_module": "@jupyter-widgets/controls",
      "_model_module_version": "1.5.0",
      "_model_name": "HTMLModel",
      "_view_count": null,
      "_view_module": "@jupyter-widgets/controls",
      "_view_module_version": "1.5.0",
      "_view_name": "HTMLView",
      "description": "",
      "description_tooltip": null,
      "layout": "IPY_MODEL_55177b5e2df7491da99e6dcfa8358687",
      "placeholder": "​",
      "style": "IPY_MODEL_98f4663fdddb48e1ad0782403946afe2",
      "value": " 44.7M/44.7M [35:32&lt;00:00, 22.0kB/s]"
     }
    },
    "3c0c6c6b27814c58832461b37075c93f": {
     "model_module": "@jupyter-widgets/controls",
     "model_name": "HBoxModel",
     "state": {
      "_dom_classes": [],
      "_model_module": "@jupyter-widgets/controls",
      "_model_module_version": "1.5.0",
      "_model_name": "HBoxModel",
      "_view_count": null,
      "_view_module": "@jupyter-widgets/controls",
      "_view_module_version": "1.5.0",
      "_view_name": "HBoxView",
      "box_style": "",
      "children": [
       "IPY_MODEL_af719989bd634e9e9f3cdd11fd509536",
       "IPY_MODEL_1fcb169e865045b9beb662bd4aa10f61"
      ],
      "layout": "IPY_MODEL_3db118e245094c37b0aaa23bd8cb3b98"
     }
    },
    "3db118e245094c37b0aaa23bd8cb3b98": {
     "model_module": "@jupyter-widgets/base",
     "model_name": "LayoutModel",
     "state": {
      "_model_module": "@jupyter-widgets/base",
      "_model_module_version": "1.2.0",
      "_model_name": "LayoutModel",
      "_view_count": null,
      "_view_module": "@jupyter-widgets/base",
      "_view_module_version": "1.2.0",
      "_view_name": "LayoutView",
      "align_content": null,
      "align_items": null,
      "align_self": null,
      "border": null,
      "bottom": null,
      "display": null,
      "flex": null,
      "flex_flow": null,
      "grid_area": null,
      "grid_auto_columns": null,
      "grid_auto_flow": null,
      "grid_auto_rows": null,
      "grid_column": null,
      "grid_gap": null,
      "grid_row": null,
      "grid_template_areas": null,
      "grid_template_columns": null,
      "grid_template_rows": null,
      "height": null,
      "justify_content": null,
      "justify_items": null,
      "left": null,
      "margin": null,
      "max_height": null,
      "max_width": null,
      "min_height": null,
      "min_width": null,
      "object_fit": null,
      "object_position": null,
      "order": null,
      "overflow": null,
      "overflow_x": null,
      "overflow_y": null,
      "padding": null,
      "right": null,
      "top": null,
      "visibility": null,
      "width": null
     }
    },
    "55177b5e2df7491da99e6dcfa8358687": {
     "model_module": "@jupyter-widgets/base",
     "model_name": "LayoutModel",
     "state": {
      "_model_module": "@jupyter-widgets/base",
      "_model_module_version": "1.2.0",
      "_model_name": "LayoutModel",
      "_view_count": null,
      "_view_module": "@jupyter-widgets/base",
      "_view_module_version": "1.2.0",
      "_view_name": "LayoutView",
      "align_content": null,
      "align_items": null,
      "align_self": null,
      "border": null,
      "bottom": null,
      "display": null,
      "flex": null,
      "flex_flow": null,
      "grid_area": null,
      "grid_auto_columns": null,
      "grid_auto_flow": null,
      "grid_auto_rows": null,
      "grid_column": null,
      "grid_gap": null,
      "grid_row": null,
      "grid_template_areas": null,
      "grid_template_columns": null,
      "grid_template_rows": null,
      "height": null,
      "justify_content": null,
      "justify_items": null,
      "left": null,
      "margin": null,
      "max_height": null,
      "max_width": null,
      "min_height": null,
      "min_width": null,
      "object_fit": null,
      "object_position": null,
      "order": null,
      "overflow": null,
      "overflow_x": null,
      "overflow_y": null,
      "padding": null,
      "right": null,
      "top": null,
      "visibility": null,
      "width": null
     }
    },
    "98f4663fdddb48e1ad0782403946afe2": {
     "model_module": "@jupyter-widgets/controls",
     "model_name": "DescriptionStyleModel",
     "state": {
      "_model_module": "@jupyter-widgets/controls",
      "_model_module_version": "1.5.0",
      "_model_name": "DescriptionStyleModel",
      "_view_count": null,
      "_view_module": "@jupyter-widgets/base",
      "_view_module_version": "1.2.0",
      "_view_name": "StyleView",
      "description_width": ""
     }
    },
    "aa187e8587b14d29be4310d33b3ac984": {
     "model_module": "@jupyter-widgets/base",
     "model_name": "LayoutModel",
     "state": {
      "_model_module": "@jupyter-widgets/base",
      "_model_module_version": "1.2.0",
      "_model_name": "LayoutModel",
      "_view_count": null,
      "_view_module": "@jupyter-widgets/base",
      "_view_module_version": "1.2.0",
      "_view_name": "LayoutView",
      "align_content": null,
      "align_items": null,
      "align_self": null,
      "border": null,
      "bottom": null,
      "display": null,
      "flex": null,
      "flex_flow": null,
      "grid_area": null,
      "grid_auto_columns": null,
      "grid_auto_flow": null,
      "grid_auto_rows": null,
      "grid_column": null,
      "grid_gap": null,
      "grid_row": null,
      "grid_template_areas": null,
      "grid_template_columns": null,
      "grid_template_rows": null,
      "height": null,
      "justify_content": null,
      "justify_items": null,
      "left": null,
      "margin": null,
      "max_height": null,
      "max_width": null,
      "min_height": null,
      "min_width": null,
      "object_fit": null,
      "object_position": null,
      "order": null,
      "overflow": null,
      "overflow_x": null,
      "overflow_y": null,
      "padding": null,
      "right": null,
      "top": null,
      "visibility": null,
      "width": null
     }
    },
    "af719989bd634e9e9f3cdd11fd509536": {
     "model_module": "@jupyter-widgets/controls",
     "model_name": "FloatProgressModel",
     "state": {
      "_dom_classes": [],
      "_model_module": "@jupyter-widgets/controls",
      "_model_module_version": "1.5.0",
      "_model_name": "FloatProgressModel",
      "_view_count": null,
      "_view_module": "@jupyter-widgets/controls",
      "_view_module_version": "1.5.0",
      "_view_name": "ProgressView",
      "bar_style": "success",
      "description": "100%",
      "description_tooltip": null,
      "layout": "IPY_MODEL_aa187e8587b14d29be4310d33b3ac984",
      "max": 46827520,
      "min": 0,
      "orientation": "horizontal",
      "style": "IPY_MODEL_cd865428ffc24395a29446e83c8cce70",
      "value": 46827520
     }
    },
    "cd865428ffc24395a29446e83c8cce70": {
     "model_module": "@jupyter-widgets/controls",
     "model_name": "ProgressStyleModel",
     "state": {
      "_model_module": "@jupyter-widgets/controls",
      "_model_module_version": "1.5.0",
      "_model_name": "ProgressStyleModel",
      "_view_count": null,
      "_view_module": "@jupyter-widgets/base",
      "_view_module_version": "1.2.0",
      "_view_name": "StyleView",
      "bar_color": null,
      "description_width": "initial"
     }
    }
   }
  }
 },
 "nbformat": 4,
 "nbformat_minor": 1
}
